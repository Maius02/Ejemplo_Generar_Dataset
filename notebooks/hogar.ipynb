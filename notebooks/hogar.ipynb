{
 "cells": [
  {
   "cell_type": "markdown",
   "id": "5556bb2f",
   "metadata": {},
   "source": [
    "# Procesar encuesta hogar"
   ]
  },
  {
   "cell_type": "markdown",
   "id": "8ecb5b72",
   "metadata": {},
   "source": [
    "#### Genero dataset unico"
   ]
  },
  {
   "cell_type": "code",
   "execution_count": 5,
   "id": "e3df4946",
   "metadata": {},
   "outputs": [],
   "source": [
    "import sys \n",
    "sys.path.append(\"..\")\n",
    "\n",
    "from src.dataset.generate_dataset import join_data\n",
    "\n",
    "join_data(\"hogar\") # unir los archivos"
   ]
  },
  {
   "cell_type": "markdown",
   "id": "056be170",
   "metadata": {},
   "source": [
    "#### Genero la ruta al archivo unico"
   ]
  },
  {
   "cell_type": "code",
   "execution_count": 3,
   "id": "d4375fc6",
   "metadata": {},
   "outputs": [],
   "source": [
    "from src.utils.constants import DATA_OUT_PATH\n",
    "\n",
    "path_hogar = DATA_OUT_PATH / \"usu_hogar.csv\" # path al archivo único"
   ]
  },
  {
   "cell_type": "markdown",
   "id": "7569f68b",
   "metadata": {},
   "source": [
    "# Sección A"
   ]
  },
  {
   "cell_type": "markdown",
   "id": "d6f53ea0",
   "metadata": {},
   "source": [
    "#### Genero nuevas columnas"
   ]
  },
  {
   "cell_type": "code",
   "execution_count": null,
   "id": "7d8e19e9",
   "metadata": {},
   "outputs": [],
   "source": [
    "#LLAMAR UNA A UNA A LAS FUNCIONES QUE AGREGAN NUEVAS COLUMNAS,"
   ]
  },
  {
   "cell_type": "markdown",
   "id": "d30a4185",
   "metadata": {},
   "source": [
    "#### Imprimo el encabezado para chequear"
   ]
  },
  {
   "cell_type": "code",
   "execution_count": 4,
   "id": "e99639b8",
   "metadata": {},
   "outputs": [
    {
     "name": "stdout",
     "output_type": "stream",
     "text": [
      "['CODUSU,ANO4,TRIMESTRE,NRO_HOGAR,REALIZADA,REGION,MAS_500,AGLOMERADO,PONDERA,IV1,IV1_ESP,IV2,IV3,IV3_ESP,IV4,IV5,IV6,IV7,IV7_ESP,IV8,IV9,IV10,IV11,IV12_1,IV12_2,IV12_3,II1,II2,II3,II3_1,II4_1,II4_2,II4_3,II5,II5_1,II6,II6_1,II7,II7_ESP,II8,II8_ESP,II9,V1,V2,V21,V22,V3,V4,V5,V6,V7,V8,V9,V10,V11,V12,V13,V14,V15,V16,V17,V18,V19_A,V19_B,IX_TOT,IX_MEN10,IX_MAYEQ10,ITF,DECIFR,IDECIFR,RDECIFR,GDECIFR,PDECIFR,ADECIFR,IPCF,DECCFR,IDECCFR,RDECCFR,GDECCFR,PDECCFR,ADECCFR,PONDIH,VII1_1,VII1_2,VII2_1,VII2_2,VII2_3,VII2_4']\n"
     ]
    }
   ],
   "source": [
    "import csv\n",
    "\n",
    "with path_hogar.open('r',encoding='utf-8') as hogar_csv:\n",
    "    csv_reader = csv.reader(hogar_csv, delimiter=';')\n",
    "    header = next(csv_reader)\n",
    "    print(header)"
   ]
  },
  {
   "cell_type": "markdown",
   "id": "2633a355",
   "metadata": {},
   "source": [
    "# Sección B"
   ]
  }
 ],
 "metadata": {
  "kernelspec": {
   "display_name": "venv",
   "language": "python",
   "name": "python3"
  },
  "language_info": {
   "codemirror_mode": {
    "name": "ipython",
    "version": 3
   },
   "file_extension": ".py",
   "mimetype": "text/x-python",
   "name": "python",
   "nbconvert_exporter": "python",
   "pygments_lexer": "ipython3",
   "version": "3.12.9"
  }
 },
 "nbformat": 4,
 "nbformat_minor": 5
}
