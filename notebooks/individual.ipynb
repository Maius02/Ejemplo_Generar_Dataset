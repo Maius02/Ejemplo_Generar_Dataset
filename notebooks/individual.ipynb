{
 "cells": [
  {
   "cell_type": "markdown",
   "id": "cfeefaa6",
   "metadata": {},
   "source": [
    "# Procesar encuesta individuos"
   ]
  },
  {
   "cell_type": "markdown",
   "id": "8600f732",
   "metadata": {},
   "source": [
    "#### Genero dataset unico"
   ]
  },
  {
   "cell_type": "code",
   "execution_count": 1,
   "id": "83353df4",
   "metadata": {},
   "outputs": [
    {
     "name": "stdout",
     "output_type": "stream",
     "text": [
      "Procesando: usu_individual_T124.txt\n",
      "Procesando: usu_individual_T323.txt\n",
      "Procesando: usu_individual_T324.txt\n"
     ]
    }
   ],
   "source": [
    "import sys \n",
    "sys.path.append(\"..\")\n",
    "\n",
    "import importlib\n",
    "#from src.dataset.generate_dataset import join_data\n",
    "import src.dataset.generate_dataset as join\n",
    "importlib.reload(join)\n",
    "\n",
    "join.join_data(\"individual\") # unir los archivos"
   ]
  },
  {
   "cell_type": "markdown",
   "id": "878e12bb",
   "metadata": {},
   "source": [
    "#### Genero la ruta al archivo unico"
   ]
  },
  {
   "cell_type": "code",
   "execution_count": 3,
   "id": "86a9ddfa",
   "metadata": {},
   "outputs": [],
   "source": [
    "from src.utils.constants import DATA_OUT_PATH\n",
    "\n",
    "path_individual = DATA_OUT_PATH / \"usu_individual.csv\" # path al archivo unico"
   ]
  },
  {
   "cell_type": "markdown",
   "id": "d0f6cc12",
   "metadata": {},
   "source": [
    "# Sección A"
   ]
  },
  {
   "cell_type": "markdown",
   "id": "7392abf8",
   "metadata": {},
   "source": [
    "#### Genero nuevas columnas"
   ]
  },
  {
   "cell_type": "code",
   "execution_count": 5,
   "id": "17c65926",
   "metadata": {},
   "outputs": [
    {
     "name": "stdout",
     "output_type": "stream",
     "text": [
      "✅ Se agregó la columna CH04_str con valores traducidos.\n"
     ]
    }
   ],
   "source": [
    "#ACA LLAMAR UNA A UNA A LAS FUNCIONES QUE AGREGAN NUEVAS COLUMNAS\n",
    "import importlib\n",
    "import src.dataset.colums_individuo as generate\n",
    "importlib.reload(generate)\n",
    "\n",
    "\n",
    "# Parte A-3: agrego la columna CH04_str\n",
    "generate.generate_column_CH04_str(path_individual)"
   ]
  },
  {
   "cell_type": "markdown",
   "id": "547765a0",
   "metadata": {},
   "source": [
    "#### Imprimo el encabezado y 1ra linea para chequear"
   ]
  },
  {
   "cell_type": "code",
   "execution_count": 6,
   "id": "d18539ca",
   "metadata": {},
   "outputs": [
    {
     "name": "stdout",
     "output_type": "stream",
     "text": [
      "['CODUSU', 'ANO4', 'TRIMESTRE', 'NRO_HOGAR', 'COMPONENTE', 'H15', 'REGION', 'MAS_500', 'AGLOMERADO', 'PONDERA', 'CH03', 'CH04', 'CH05', 'CH06', 'CH07', 'CH08', 'CH09', 'CH10', 'CH11', 'CH12', 'CH13', 'CH14', 'CH15', 'CH15_COD', 'CH16', 'CH16_COD', 'NIVEL_ED', 'ESTADO', 'CAT_OCUP', 'CAT_INAC', 'IMPUTA', 'PP02C1', 'PP02C2', 'PP02C3', 'PP02C4', 'PP02C5', 'PP02C6', 'PP02C7', 'PP02C8', 'PP02E', 'PP02H', 'PP02I', 'PP03C', 'PP03D', 'PP3E_TOT', 'PP3F_TOT', 'PP03G', 'PP03H', 'PP03I', 'PP03J', 'INTENSI', 'PP04A', 'PP04B_COD', 'PP04B1', 'PP04B2', 'PP04B3_MES', 'PP04B3_ANO', 'PP04B3_DIA', 'PP04C', 'PP04C99', 'PP04D_COD', 'PP04G', 'PP05B2_MES', 'PP05B2_ANO', 'PP05B2_DIA', 'PP05C_1', 'PP05C_2', 'PP05C_3', 'PP05E', 'PP05F', 'PP05H', 'PP06A', 'PP06C', 'PP06D', 'PP06E', 'PP06H', 'PP07A', 'PP07C', 'PP07D', 'PP07E', 'PP07F1', 'PP07F2', 'PP07F3', 'PP07F4', 'PP07F5', 'PP07G1', 'PP07G2', 'PP07G3', 'PP07G4', 'PP07G_59', 'PP07H', 'PP07I', 'PP07J', 'PP07K', 'PP08D1', 'PP08D4', 'PP08F1', 'PP08F2', 'PP08J1', 'PP08J2', 'PP08J3', 'PP09A', 'PP09A_ESP', 'PP09B', 'PP09C', 'PP09C_ESP', 'PP10A', 'PP10C', 'PP10D', 'PP10E', 'PP11A', 'PP11B_COD', 'PP11B1', 'PP11B2_MES', 'PP11B2_ANO', 'PP11B2_DIA', 'PP11C', 'PP11C99', 'PP11D_COD', 'PP11G_ANO', 'PP11G_MES', 'PP11G_DIA', 'PP11L', 'PP11L1', 'PP11M', 'PP11N', 'PP11O', 'PP11P', 'PP11Q', 'PP11R', 'PP11S', 'PP11T', 'P21', 'DECOCUR', 'IDECOCUR', 'RDECOCUR', 'GDECOCUR', 'PDECOCUR', 'ADECOCUR', 'PONDIIO', 'TOT_P12', 'P47T', 'DECINDR', 'IDECINDR', 'RDECINDR', 'GDECINDR', 'PDECINDR', 'ADECINDR', 'PONDII', 'V2_M', 'V3_M', 'V4_M', 'V5_M', 'V8_M', 'V9_M', 'V10_M', 'V11_M', 'V12_M', 'V18_M', 'V19_AM', 'V21_M', 'T_VI', 'ITF', 'DECIFR', 'IDECIFR', 'RDECIFR', 'GDECIFR', 'PDECIFR', 'ADECIFR', 'IPCF', 'DECCFR', 'IDECCFR', 'RDECCFR', 'GDECCFR', 'PDECCFR', 'ADECCFR', 'PONDIH', 'CH04_str']\n",
      "['TQRMNOPUTHLMKQCDEGGFB00852588', '2024', '1', '1', '3', '1', '42', 'S', '10', '439', '3', '2', '22/06/1979', '44', '5', '1', '1', '2', '0', '4', '2', '04', '1', '', '1', '', '3', '1', '3', '0', '', '0', '0', '0', '0', '0', '0', '0', '0', '0', '0', '0', '1', '0', '30', '0', '2', '0', '2', '2', '2', '1', '4000', '2', '0', '0', '0', '0', '99', '3', '10333', '1', '0', '0', '0', '0', '0', '0', '0', '0', '0', '0', '0', '0', '0', '0', '5', '2', '0', '0', '2', '2', '2', '2', '5', '1', '1', '1', '1', '0', '1', '0', '1', '1', '-9', '0', '0', '0', '0', '0', '0', '0', '', '0', '0', '', '', '', '', '', '', '', '', '', '', '', '', '', '', '', '', '', '', '', '', '', '', '', '', '', '', '', '-9', '12', '12', '12', '12', '', '12', '0', '0', '-9', '12', '12', '12', '12', '', '12', '0', '0', '0', '0', '0', '0', '0', '0', '0', '0', '0', '0', '0', '0', '0', '12', '12', '12', '12', '', '12', '0', '12', '12', '12', '12', '', '12', '0', 'Femenino']\n"
     ]
    }
   ],
   "source": [
    "import csv\n",
    "\n",
    "with path_individual.open('r',encoding='utf-8') as individual_csv:\n",
    "    csv_reader = csv.reader(individual_csv, delimiter=';')\n",
    "    header,data= next(csv_reader), list(csv_reader)\n",
    "    print(header)\n",
    "    print(data[0])"
   ]
  },
  {
   "cell_type": "markdown",
   "id": "102d0baf",
   "metadata": {},
   "source": [
    "# Sección B"
   ]
  },
  {
   "cell_type": "code",
   "execution_count": null,
   "id": "39c573fc",
   "metadata": {},
   "outputs": [],
   "source": [
    "# completar"
   ]
  }
 ],
 "metadata": {
  "kernelspec": {
   "display_name": "venv",
   "language": "python",
   "name": "python3"
  },
  "language_info": {
   "codemirror_mode": {
    "name": "ipython",
    "version": 3
   },
   "file_extension": ".py",
   "mimetype": "text/x-python",
   "name": "python",
   "nbconvert_exporter": "python",
   "pygments_lexer": "ipython3",
   "version": "3.12.9"
  }
 },
 "nbformat": 4,
 "nbformat_minor": 5
}
