{
 "cells": [
  {
   "cell_type": "markdown",
   "id": "cfeefaa6",
   "metadata": {},
   "source": [
    "# Here the survey of individuals is processed"
   ]
  },
  {
   "cell_type": "code",
   "execution_count": 1,
   "id": "83353df4",
   "metadata": {},
   "outputs": [],
   "source": [
    "import sys \n",
    "sys.path.append(\"..\")\n",
    "\n",
    "from src.utils.some import generate_dataset\n",
    "\n",
    "# unir los archivos\n",
    "generate_dataset(\"individual\")\n"
   ]
  },
  {
   "cell_type": "code",
   "execution_count": null,
   "id": "d18539ca",
   "metadata": {},
   "outputs": [
    {
     "ename": "KeyError",
     "evalue": "'CH04'",
     "output_type": "error",
     "traceback": [
      "\u001b[31m---------------------------------------------------------------------------\u001b[39m",
      "\u001b[31mKeyError\u001b[39m                                  Traceback (most recent call last)",
      "\u001b[36mCell\u001b[39m\u001b[36m \u001b[39m\u001b[32mIn[2]\u001b[39m\u001b[32m, line 7\u001b[39m\n\u001b[32m      3\u001b[39m \u001b[38;5;28;01mimport\u001b[39;00m\u001b[38;5;250m \u001b[39m\u001b[34;01mcsv\u001b[39;00m\n\u001b[32m      5\u001b[39m path_individual = DATA_OUT_PATH / \u001b[33m\"\u001b[39m\u001b[33musu_individual.csv\u001b[39m\u001b[33m\"\u001b[39m\n\u001b[32m----> \u001b[39m\u001b[32m7\u001b[39m \u001b[43mgenerate_column_CH04_str\u001b[49m\u001b[43m(\u001b[49m\u001b[43mpath_individual\u001b[49m\u001b[43m)\u001b[49m\n\u001b[32m      9\u001b[39m \u001b[38;5;28;01mwith\u001b[39;00m path_individual.open(\u001b[33m'\u001b[39m\u001b[33mr\u001b[39m\u001b[33m'\u001b[39m,encoding=\u001b[33m'\u001b[39m\u001b[33mutf-8\u001b[39m\u001b[33m'\u001b[39m) \u001b[38;5;28;01mas\u001b[39;00m individual_csv:\n\u001b[32m     10\u001b[39m     csv_reader = csv.reader(individual_csv, delimiter=\u001b[33m'\u001b[39m\u001b[33m;\u001b[39m\u001b[33m'\u001b[39m)\n",
      "\u001b[36mFile \u001b[39m\u001b[32mc:\\Users\\Maia\\Desktop\\Seminario Python\\Trabajo integrador\\Ejemplo_Generar_Dataset\\notebooks\\..\\src\\generar_columnas.py:14\u001b[39m, in \u001b[36mgenerate_column_CH04_str\u001b[39m\u001b[34m(path_individual)\u001b[39m\n\u001b[32m     12\u001b[39m \u001b[38;5;66;03m# modifico las filas, agrego nuevas columnas\u001b[39;00m\n\u001b[32m     13\u001b[39m \u001b[38;5;28;01mfor\u001b[39;00m file \u001b[38;5;129;01min\u001b[39;00m data:\n\u001b[32m---> \u001b[39m\u001b[32m14\u001b[39m     file[\u001b[33m\"\u001b[39m\u001b[33mCH04_str\u001b[39m\u001b[33m\"\u001b[39m] = \u001b[33m'\u001b[39m\u001b[33mMasculino\u001b[39m\u001b[33m'\u001b[39m \u001b[38;5;28;01mif\u001b[39;00m \u001b[43mfile\u001b[49m\u001b[43m[\u001b[49m\u001b[33;43m\"\u001b[39;49m\u001b[33;43mCH04\u001b[39;49m\u001b[33;43m\"\u001b[39;49m\u001b[43m]\u001b[49m == \u001b[32m1\u001b[39m \u001b[38;5;28;01melse\u001b[39;00m \u001b[33m'\u001b[39m\u001b[33mFemenino\u001b[39m\u001b[33m'\u001b[39m\n\u001b[32m     16\u001b[39m \u001b[38;5;66;03m# Escribimos de nuevo el mismo archivo, con la columna nueva\u001b[39;00m\n\u001b[32m     17\u001b[39m \u001b[38;5;28;01mwith\u001b[39;00m \u001b[38;5;28mopen\u001b[39m(path_individual, \u001b[33m\"\u001b[39m\u001b[33mw\u001b[39m\u001b[33m\"\u001b[39m, newline=\u001b[33m\"\u001b[39m\u001b[33m\"\u001b[39m, encoding=\u001b[33m\"\u001b[39m\u001b[33mutf-8\u001b[39m\u001b[33m\"\u001b[39m) \u001b[38;5;28;01mas\u001b[39;00m archivo:\n",
      "\u001b[31mKeyError\u001b[39m: 'CH04'"
     ]
    }
   ],
   "source": [
    "from src.utils.constants import DATA_OUT_PATH\n",
    "from src.generate.colum_individual import generate_column_CH04_str\n",
    "import csv\n",
    "\n",
    "path_individual = DATA_OUT_PATH / \"usu_individual.csv\"\n",
    "\n",
    "generate_column_CH04_str(path_individual)\n",
    "\n",
    "with path_individual.open('r',encoding='utf-8') as individual_csv:\n",
    "    csv_reader = csv.reader(individual_csv, delimiter=';')\n",
    "    header = next(csv_reader)\n",
    "    print(header)\n"
   ]
  }
 ],
 "metadata": {
  "kernelspec": {
   "display_name": "venv",
   "language": "python",
   "name": "python3"
  },
  "language_info": {
   "codemirror_mode": {
    "name": "ipython",
    "version": 3
   },
   "file_extension": ".py",
   "mimetype": "text/x-python",
   "name": "python",
   "nbconvert_exporter": "python",
   "pygments_lexer": "ipython3",
   "version": "3.12.9"
  }
 },
 "nbformat": 4,
 "nbformat_minor": 5
}
