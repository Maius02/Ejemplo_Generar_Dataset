{
 "cells": [
  {
   "cell_type": "markdown",
   "id": "e42c85d1",
   "metadata": {},
   "source": [
    "#### Me paro en el directorio actual y tambien importo las cosas que voy a usar"
   ]
  },
  {
   "cell_type": "code",
   "execution_count": 2,
   "id": "fa11dcd0",
   "metadata": {},
   "outputs": [],
   "source": [
    "import sys \n",
    "sys.path.append(\"..\")\n",
    "\n",
    "from src.utils.constants import DATA_PATH, DATA_OUT_PATH\n"
   ]
  },
  {
   "cell_type": "markdown",
   "id": "21b89349",
   "metadata": {},
   "source": [
    "#### Genera un solo archivo csv con todos los datos que le indico, pero los trato como archivo de texto"
   ]
  },
  {
   "cell_type": "code",
   "execution_count": null,
   "id": "4e00989c",
   "metadata": {},
   "outputs": [],
   "source": [
    "\n",
    "archivo_salida = DATA_OUT_PATH / \"usu_hogar.csv\"\n",
    "\n",
    "se_escribio_encabezado = False\n",
    "\n",
    "tipo = \"usu_hogar_*\"\n",
    "\n",
    "#escribimos en 'salida' linea por linea de cada uno de los archivos que recorremos\n",
    "with archivo_salida.open('w') as salida:\n",
    "\n",
    "    #recorro archivos de data_eph\n",
    "    for trimestre in DATA_PATH.iterdir():\n",
    "        \n",
    "        #recorro archivos de un trimestre\n",
    "        for archivo in trimestre.glob(tipo):\n",
    "            \n",
    "            #recorro linea a linea ese archivo .txt y lo agrego al usu_hogar.csv\n",
    "            with open(archivo) as f:\n",
    "\n",
    "                #el encabezado lo agrego una sola vez\n",
    "                header = f.readline() # lee primera linea y avanza\n",
    "                if not se_escribio_encabezado:\n",
    "                    salida.write(header)\n",
    "                    se_escribio_encabezado = True\n",
    "                \n",
    "                #recorro cada linea de ese trimestre.txt\n",
    "                for line in f:\n",
    "                    salida.write(line)\n",
    "    "
   ]
  },
  {
   "cell_type": "markdown",
   "id": "4d5fbb05",
   "metadata": {},
   "source": [
    "#### Genera un solo archivo csv con todos los datos que le indico, pero los trato como archivo csv\n",
    "\n",
    "Si el archivo .txt está estructurado como una tabla, entonces sí podés tratarlo como un .csv, aunque tenga extensión .txt\n"
   ]
  },
  {
   "cell_type": "code",
   "execution_count": 3,
   "id": "f56e74b3",
   "metadata": {},
   "outputs": [],
   "source": [
    "import csv\n",
    "\n",
    "path_archivo_salida = DATA_OUT_PATH / \"usu_hogar2.csv\"\n",
    "\n",
    "se_escribio_encabezado = False\n",
    "\n",
    "with path_archivo_salida.open('w', newline=\"\", encoding = \"utf-8\") as archivo_salida_csv:\n",
    "\n",
    "    writer = csv.writer(archivo_salida_csv)\n",
    "\n",
    "    #recorro archivos de data_eph\n",
    "    for path_trimestre in DATA_PATH.iterdir():\n",
    "        \n",
    "        #recorro archivos de un trimestre\n",
    "        for path_archivo in path_trimestre.glob(\"usu_hogar_*\"):\n",
    "            \n",
    "            #abro el csv\n",
    "            with path_archivo.open('r', encoding='utf-8') as archivo_csv:\n",
    "                \n",
    "                csv_reader = csv.reader(archivo_csv, delimiter=';') #genero iterable\n",
    "                header, data = next(csv_reader), list(csv_reader)\n",
    "                \n",
    "            if not se_escribio_encabezado:\n",
    "                writer.writerow(header)\n",
    "                se_escribio_encabezado = True\n",
    "\n",
    "            for line in data:\n",
    "                writer.writerow(line)"
   ]
  },
  {
   "cell_type": "markdown",
   "id": "f9b05f53",
   "metadata": {},
   "source": [
    "#### Imprime la ruta de los archivos usu_hogar que hay en la carpeta data_eph"
   ]
  },
  {
   "cell_type": "code",
   "execution_count": null,
   "id": "aeff1c80",
   "metadata": {},
   "outputs": [
    {
     "name": "stdout",
     "output_type": "stream",
     "text": [
      "c:\\Users\\Maia\\Desktop\\Seminario Python\\Trabajo integrador\\Ejemplo_Generar_Dataset\\notebooks\\..\\data_eph\\EPH_usu_1er_Trim_2024_txt\\usu_hogar_T124.txt\n",
      "\"CODUSU\";\"ANO4\";\"TRIMESTRE\";\"NRO_HOGAR\";\"REALIZADA\";\"REGION\";\"MAS_500\";\"AGLOMERADO\";\"PONDERA\";\"IV1\";\"IV1_ESP\";\"IV2\";\"IV3\";\"IV3_ESP\";\"IV4\";\"IV5\";\"IV6\";\"IV7\";\"IV7_ESP\";\"IV8\";\"IV9\";\"IV10\";\"IV11\";\"IV12_1\";\"IV12_2\";\"IV12_3\";\"II1\";\"II2\";\"II3\";\"II3_1\";\"II4_1\";\"II4_2\";\"II4_3\";\"II5\";\"II5_1\";\"II6\";\"II6_1\";\"II7\";\"II7_ESP\";\"II8\";\"II8_ESP\";\"II9\";\"V1\";\"V2\";\"V21\";\"V22\";\"V3\";\"V4\";\"V5\";\"V6\";\"V7\";\"V8\";\"V9\";\"V10\";\"V11\";\"V12\";\"V13\";\"V14\";\"V15\";\"V16\";\"V17\";\"V18\";\"V19_A\";\"V19_B\";\"IX_TOT\";\"IX_MEN10\";\"IX_MAYEQ10\";\"ITF\";\"DECIFR\";\"IDECIFR\";\"RDECIFR\";\"GDECIFR\";\"PDECIFR\";\"ADECIFR\";\"IPCF\";\"DECCFR\";\"IDECCFR\";\"RDECCFR\";\"GDECCFR\";\"PDECCFR\";\"ADECCFR\";\"PONDIH\";\"VII1_1\";\"VII1_2\";\"VII2_1\";\"VII2_2\";\"VII2_3\";\"VII2_4\"\n",
      "\n",
      "c:\\Users\\Maia\\Desktop\\Seminario Python\\Trabajo integrador\\Ejemplo_Generar_Dataset\\notebooks\\..\\data_eph\\EPH_usu_2do_Trim2024_txt\\usu_hogar_T224.txt\n",
      "\"CODUSU\";\"ANO4\";\"TRIMESTRE\";\"NRO_HOGAR\";\"REALIZADA\";\"REGION\";\"MAS_500\";\"AGLOMERADO\";\"PONDERA\";\"IV1\";\"IV1_ESP\";\"IV2\";\"IV3\";\"IV3_ESP\";\"IV4\";\"IV5\";\"IV6\";\"IV7\";\"IV7_ESP\";\"IV8\";\"IV9\";\"IV10\";\"IV11\";\"IV12_1\";\"IV12_2\";\"IV12_3\";\"II1\";\"II2\";\"II3\";\"II3_1\";\"II4_1\";\"II4_2\";\"II4_3\";\"II5\";\"II5_1\";\"II6\";\"II6_1\";\"II7\";\"II7_ESP\";\"II8\";\"II8_ESP\";\"II9\";\"V1\";\"V2\";\"V21\";\"V22\";\"V3\";\"V4\";\"V5\";\"V6\";\"V7\";\"V8\";\"V9\";\"V10\";\"V11\";\"V12\";\"V13\";\"V14\";\"V15\";\"V16\";\"V17\";\"V18\";\"V19_A\";\"V19_B\";\"IX_TOT\";\"IX_MEN10\";\"IX_MAYEQ10\";\"ITF\";\"DECIFR\";\"IDECIFR\";\"RDECIFR\";\"GDECIFR\";\"PDECIFR\";\"ADECIFR\";\"IPCF\";\"DECCFR\";\"IDECCFR\";\"RDECCFR\";\"GDECCFR\";\"PDECCFR\";\"ADECCFR\";\"PONDIH\";\"VII1_1\";\"VII1_2\";\"VII2_1\";\"VII2_2\";\"VII2_3\";\"VII2_4\"\n",
      "\n",
      "c:\\Users\\Maia\\Desktop\\Seminario Python\\Trabajo integrador\\Ejemplo_Generar_Dataset\\notebooks\\..\\data_eph\\EPH_usu_3er_Trim_2024_txt\\usu_hogar_T324.txt\n",
      "\"CODUSU\";\"ANO4\";\"TRIMESTRE\";\"NRO_HOGAR\";\"REALIZADA\";\"REGION\";\"MAS_500\";\"AGLOMERADO\";\"PONDERA\";\"IV1\";\"IV1_ESP\";\"IV2\";\"IV3\";\"IV3_ESP\";\"IV4\";\"IV5\";\"IV6\";\"IV7\";\"IV7_ESP\";\"IV8\";\"IV9\";\"IV10\";\"IV11\";\"IV12_1\";\"IV12_2\";\"IV12_3\";\"II1\";\"II2\";\"II3\";\"II3_1\";\"II4_1\";\"II4_2\";\"II4_3\";\"II5\";\"II5_1\";\"II6\";\"II6_1\";\"II7\";\"II7_ESP\";\"II8\";\"II8_ESP\";\"II9\";\"V1\";\"V2\";\"V21\";\"V22\";\"V3\";\"V4\";\"V5\";\"V6\";\"V7\";\"V8\";\"V9\";\"V10\";\"V11\";\"V12\";\"V13\";\"V14\";\"V15\";\"V16\";\"V17\";\"V18\";\"V19_A\";\"V19_B\";\"IX_TOT\";\"IX_MEN10\";\"IX_MAYEQ10\";\"ITF\";\"DECIFR\";\"IDECIFR\";\"RDECIFR\";\"GDECIFR\";\"PDECIFR\";\"ADECIFR\";\"IPCF\";\"DECCFR\";\"IDECCFR\";\"RDECCFR\";\"GDECCFR\";\"PDECCFR\";\"ADECCFR\";\"PONDIH\";\"VII1_1\";\"VII1_2\";\"VII2_1\";\"VII2_2\";\"VII2_3\";\"VII2_4\"\n",
      "\n"
     ]
    }
   ],
   "source": [
    "for trimestre in DATA_PATH.iterdir():\n",
    "    for archivo in trimestre.glob(\"usu_hogar_*\"):\n",
    "        print(archivo)\n",
    "        with open(archivo) as f:\n",
    "            print(f.readline())"
   ]
  },
  {
   "cell_type": "markdown",
   "id": "8a2a5b32",
   "metadata": {},
   "source": [
    "# whos\n",
    "\n",
    "imprime el tipo de todas las variables utilizada"
   ]
  },
  {
   "cell_type": "code",
   "execution_count": 25,
   "id": "15d96ae2",
   "metadata": {},
   "outputs": [
    {
     "name": "stdout",
     "output_type": "stream",
     "text": [
      "Variable                 Type             Data/Info\n",
      "---------------------------------------------------\n",
      "DATA_OUT_PATH            WindowsPath      c:\\Users\\Maia\\Desktop\\Sem<...>set\\notebooks\\..\\data_out\n",
      "DATA_PATH                WindowsPath      c:\\Users\\Maia\\Desktop\\Sem<...>set\\notebooks\\..\\data_eph\n",
      "PROJECT_PATH             WindowsPath      c:\\Users\\Maia\\Desktop\\Sem<...>erar_Dataset\\notebooks\\..\n",
      "archivo                  WindowsPath      c:\\Users\\Maia\\Desktop\\Sem<...>24_txt\\usu_hogar_T324.txt\n",
      "archivo_csv              TextIOWrapper    <_io.TextIOWrapper name='<...>ode='r' encoding='utf-8'>\n",
      "archivo_salida           TextIOWrapper    <_io.TextIOWrapper name='<...>ode='w' encoding='utf-8'>\n",
      "csv                      module           <module 'csv' from 'C:\\\\U<...>\\Python312\\\\Lib\\\\csv.py'>\n",
      "csv_reader               reader           <_csv.reader object at 0x000002DC248BA500>\n",
      "data                     list             n=16104\n",
      "f                        TextIOWrapper    <_io.TextIOWrapper name='<...>de='r' encoding='cp1252'>\n",
      "header                   list             n=88\n",
      "line                     str              \"TQRMNORSWHJNLPCDEFJAH008<...>2\";\"1\";511;2;0;98;0;0;0\\n\n",
      "linea                    list             n=88\n",
      "path_archivo             WindowsPath      c:\\Users\\Maia\\Desktop\\Sem<...>24_txt\\usu_hogar_T124.txt\n",
      "path_archivo_salida      WindowsPath      c:\\Users\\Maia\\Desktop\\Sem<...>.\\data_out\\usu_hogar2.csv\n",
      "path_trimestre           WindowsPath      c:\\Users\\Maia\\Desktop\\Sem<...>EPH_usu_1er_Trim_2024_txt\n",
      "salida                   TextIOWrapper    <_io.TextIOWrapper name='<...>de='w' encoding='cp1252'>\n",
      "se_escribio_encabezado   bool             False\n",
      "sys                      module           <module 'sys' (built-in)>\n",
      "trimestre                WindowsPath      c:\\Users\\Maia\\Desktop\\Sem<...>EPH_usu_3er_Trim_2024_txt\n"
     ]
    }
   ],
   "source": [
    "whos"
   ]
  }
 ],
 "metadata": {
  "kernelspec": {
   "display_name": "venv",
   "language": "python",
   "name": "python3"
  },
  "language_info": {
   "codemirror_mode": {
    "name": "ipython",
    "version": 3
   },
   "file_extension": ".py",
   "mimetype": "text/x-python",
   "name": "python",
   "nbconvert_exporter": "python",
   "pygments_lexer": "ipython3",
   "version": "3.12.9"
  }
 },
 "nbformat": 4,
 "nbformat_minor": 5
}
